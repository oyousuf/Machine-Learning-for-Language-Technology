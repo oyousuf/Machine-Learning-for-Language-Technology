{
 "cells": [
  {
   "cell_type": "code",
   "execution_count": 1,
   "id": "composite-snowboard",
   "metadata": {},
   "outputs": [],
   "source": [
    "import tarfile\n",
    "#import pandas as pd\n",
    "from pathlib import Path\n",
    "from collections import defaultdict\n",
    "import numpy as np"
   ]
  },
  {
   "cell_type": "markdown",
   "id": "clean-determination",
   "metadata": {},
   "source": [
    "### Part 1: Parsing the dataset"
   ]
  },
  {
   "cell_type": "code",
   "execution_count": 3,
   "id": "becoming-qatar",
   "metadata": {},
   "outputs": [],
   "source": [
    "# with tarfile.open('review_polarity.tar.gz', 'r:gz') as tar:\n",
    "#     tar.extractall()"
   ]
  },
  {
   "cell_type": "code",
   "execution_count": 2,
   "id": "animal-locking",
   "metadata": {},
   "outputs": [],
   "source": [
    "neg_filepath = './txt_sentoken/neg'\n",
    "pos_filepath = './txt_sentoken/pos'"
   ]
  },
  {
   "cell_type": "code",
   "execution_count": 3,
   "id": "thirty-montreal",
   "metadata": {},
   "outputs": [],
   "source": [
    "results = defaultdict(list)\n",
    "\n",
    "for file in Path(neg_filepath).iterdir():\n",
    "    with open(file, \"r\") as file_open:\n",
    "        results[\"text\"].append(file_open.read())\n",
    "        results[\"label\"].append(-1)\n",
    "        \n",
    "for file in Path(pos_filepath).iterdir():\n",
    "    with open(file, \"r\") as file_open:\n",
    "        results[\"text\"].append(file_open.read())\n",
    "        results[\"label\"].append(1)\n",
    "        \n",
    "#df = pd.DataFrame(results)"
   ]
  },
  {
   "cell_type": "code",
   "execution_count": 4,
   "id": "atmospheric-motorcycle",
   "metadata": {},
   "outputs": [],
   "source": [
    "X_raw = np.array(results['text'])\n",
    "y = np.array(results['label'])"
   ]
  },
  {
   "cell_type": "code",
   "execution_count": 5,
   "id": "selective-restoration",
   "metadata": {},
   "outputs": [],
   "source": [
    "assert np.all([type(x) == np.str_ for x in X_raw])\n",
    "assert len(X_raw) == y.shape[0]\n",
    "assert len(np.unique(y)) == 2\n",
    "assert y.min() == -1\n",
    "assert y.max() == 1"
   ]
  },
  {
   "cell_type": "markdown",
   "id": "basic-proxy",
   "metadata": {},
   "source": [
    "## Part 2: Feature extraction"
   ]
  },
  {
   "cell_type": "code",
   "execution_count": 6,
   "id": "appointed-component",
   "metadata": {},
   "outputs": [],
   "source": [
    "import re\n",
    "\n",
    "X_prac = X_raw.copy()\n",
    "len_X_prac = len(X_prac)\n",
    "\n",
    "\n",
    "def clean_text(sentence):\n",
    "    sentence = re.sub(rf'[^a-zA-Z\\s]','',sentence)\n",
    "    sentence = re.sub(rf\"\\n\", \"\", sentence)\n",
    "    sentence = re.sub(rf\"\\s+\", \" \", sentence)\n",
    "    sentence = re.sub(rf'\\s+[a-zA-Z]\\s+', ' ', sentence)\n",
    "    return sentence \n",
    "\n",
    "\n",
    "for i, text in enumerate(X_prac):\n",
    "    X_prac[i] = clean_text(text)\n",
    "\n",
    "    \n",
    "words = np.array([x.split() for x in X_prac], dtype=object)\n",
    "flatten_words = np.concatenate(words)\n",
    "vocab = set(flatten_words)\n",
    "vocab_size = len(vocab)\n",
    "ordered_vocab =sorted(list(vocab), reverse=False)\n",
    "\n",
    "for i, w_list in enumerate(words):\n",
    "    words[i] = set(w_list)\n",
    "    "
   ]
  },
  {
   "cell_type": "code",
   "execution_count": 7,
   "id": "voluntary-award",
   "metadata": {},
   "outputs": [],
   "source": [
    "X = np.zeros((len_X_prac, vocab_size))\n",
    "for i, w_list in enumerate(words):\n",
    "    for j, v in enumerate(vocab):\n",
    "        if v in w_list:\n",
    "            X[i,j] = 1 "
   ]
  },
  {
   "cell_type": "code",
   "execution_count": 8,
   "id": "precious-bedroom",
   "metadata": {},
   "outputs": [
    {
     "data": {
      "text/plain": [
       "(2000, 46786)"
      ]
     },
     "execution_count": 8,
     "metadata": {},
     "output_type": "execute_result"
    }
   ],
   "source": [
    "X.shape"
   ]
  },
  {
   "cell_type": "code",
   "execution_count": 9,
   "id": "civic-referral",
   "metadata": {},
   "outputs": [
    {
     "name": "stdout",
     "output_type": "stream",
     "text": [
      "'wifi' is not in the vocabulary\n",
      "'the' is represented as feature dimension 41496\n",
      "'coffee' is represented as feature dimension 7377\n"
     ]
    }
   ],
   "source": [
    "lut = dict()\n",
    "for i, word in enumerate(ordered_vocab):\n",
    "    lut[word] = i\n",
    "    \n",
    "for word in ['wifi', 'the', 'coffee']:\n",
    "    if word in vocab:\n",
    "        print(\"'%s' is represented as feature dimension %i\" %(word, lut[word]))\n",
    "    else:\n",
    "        print(\"'%s' is not in the vocabulary\" % word)"
   ]
  },
  {
   "cell_type": "code",
   "execution_count": 10,
   "id": "aerial-firmware",
   "metadata": {},
   "outputs": [
    {
     "name": "stdout",
     "output_type": "stream",
     "text": [
      "['arouses', 'arousing', 'aroway', 'arqua', 'arquette', 'arquettes', 'arraigned', 'arraki', 'arrakis', 'arrange']\n",
      "[[0. 0. 0. 0. 0. 0. 0. 0. 0. 0.]\n",
      " [0. 0. 0. 0. 0. 0. 0. 0. 0. 0.]\n",
      " [0. 0. 0. 0. 0. 0. 0. 0. 0. 0.]\n",
      " [0. 0. 0. 0. 0. 0. 0. 0. 0. 0.]\n",
      " [0. 0. 0. 0. 0. 0. 0. 0. 0. 0.]\n",
      " [0. 0. 0. 0. 0. 0. 0. 0. 0. 0.]\n",
      " [0. 0. 0. 0. 0. 0. 0. 0. 0. 0.]\n",
      " [0. 0. 0. 0. 0. 0. 0. 0. 0. 0.]\n",
      " [0. 0. 0. 0. 0. 0. 0. 0. 0. 0.]\n",
      " [0. 0. 0. 0. 0. 0. 0. 0. 0. 0.]]\n",
      "'wifi' in words: False\n",
      "'the' in words: True\n",
      "'coffee' in words: True\n"
     ]
    }
   ],
   "source": [
    "print(ordered_vocab[2000:2010])\n",
    "print(X[:10, 2000:2010])\n",
    "for w in ['wifi', 'the', 'coffee']:\n",
    "    print(\"'%s' in words: %s\" % (w, w in vocab))"
   ]
  },
  {
   "cell_type": "code",
   "execution_count": 11,
   "id": "sporting-shelter",
   "metadata": {},
   "outputs": [],
   "source": [
    "# pseudo input 1 \n",
    "X = np.insert(X, 0, 1, axis=1)\n",
    "\n",
    "# seperating train/test set \n",
    "x_train = np.vstack((X[0:800], X[1000:1800]))\n",
    "y_train = np.hstack((y[0:800], y[1000:1800]))\n",
    "x_test = np.vstack((X[800:1000], X[1800:2000]))\n",
    "y_test = np.hstack((y[800:1000], y[1800:2000]))"
   ]
  },
  {
   "cell_type": "code",
   "execution_count": 15,
   "id": "dried-bronze",
   "metadata": {},
   "outputs": [
    {
     "data": {
      "text/plain": [
       "(2000, 46787)"
      ]
     },
     "execution_count": 15,
     "metadata": {},
     "output_type": "execute_result"
    }
   ],
   "source": [
    "X.shape"
   ]
  },
  {
   "cell_type": "code",
   "execution_count": 26,
   "id": "legendary-hospital",
   "metadata": {},
   "outputs": [],
   "source": [
    "\n"
   ]
  },
  {
   "cell_type": "code",
   "execution_count": 240,
   "id": "about-camera",
   "metadata": {},
   "outputs": [],
   "source": [
    "import numpy as np\n",
    "class SVM_Classifier:   \n",
    "     \n",
    "    \n",
    "    def __init__(self, weight=None, learning_rate=0.001, l2_lambda=0.001):\n",
    "        self.weight = weight\n",
    "        self.learning_rate = learning_rate\n",
    "        self.l2_lambda = l2_lambda\n",
    "    \n",
    "    \n",
    "    def predict(self, w, X):\n",
    "        l = [i for i in np.dot(X, w)]\n",
    "        tmp = np.sign(l)\n",
    "        res = np.array([i for i in tmp])\n",
    "        \n",
    "        return res \n",
    "        \n",
    "    def dot_matrix(self, w, X):\n",
    "        l = [i for i in np.dot(X, w)]\n",
    "        res = np.array([i for i in l])\n",
    "\n",
    "        return res \n",
    "    \n",
    "    def hinge_loss_matrix(self, X, labels, w):\n",
    "        y_hat = self.dot_matrix(w, X)\n",
    "        sum_hinge = 0\n",
    "        len_of_matrix = len(X)\n",
    "        for i in range(len_of_matrix):\n",
    "            margins = np.max([0.0, 1 - labels[i] * y_hat[i]])\n",
    "            sum_hinge += margins \n",
    "        \n",
    "        return sum_hinge \n",
    "    \n",
    "    def l2_regularization(self, w):\n",
    "        sum_w = np.sum(np.square(w))\n",
    "        l2 = (self.l2_lambda / 2) * sum_w\n",
    "        \n",
    "        return l2\n",
    "    \n",
    "    \n",
    "    def hinge_loss_function(self, X, labels, w):\n",
    "        loss = self.hinge_loss_matrix(X, labels, w)\n",
    "        l2 = self.l2_regularization(w)\n",
    "        total = loss + l2\n",
    "        \n",
    "        return total \n",
    "    \n",
    "    def gradient(self, X, labels, w):\n",
    "        sub_grad = 0\n",
    "        for x_i, y_i in zip(X, labels):\n",
    "            g = np.dot(x_i, w)\n",
    "            if y_i * g < 1:\n",
    "                sub_grad += -y_i * x_i\n",
    "            else:\n",
    "                sub_grad += 0\n",
    "                \n",
    "        return sub_grad \n",
    "    \n",
    "    def add_weight(self, w, subgrad_w):\n",
    "        subgrad_w = np.array(subgrad_w).reshape(-1, 1) #to get the same shape\n",
    "        return w + subgrad_w \n",
    "\n",
    "    \n",
    "    def gradient_descent(self, X, labels, w):\n",
    "        sub_grads = self.gradient(X, labels, w)\n",
    "        addweight = self.add_weight(w, sub_grads)\n",
    "        w = w - self.learning_rate * np.array(addweight).reshape(-1, 1)\n",
    "  \n",
    "        return w\n",
    "\n",
    "    \n",
    "\n",
    "    def fit(self, X, labels):\n",
    "        self.weight = np.random.randn(len(X_prac[0])).reshape(-1,1)        \n",
    "        best_loss = -1 # initial best loss\n",
    "        count = 0\n",
    "        epoch = 0 \n",
    "        min_epoch = 200\n",
    "        print(f'initial weight: {self.weight}')\n",
    "        while True:\n",
    "            if best_loss == -1: # initial loss \n",
    "                loss = self.hinge_loss_function(X, labels, self.weight)\n",
    "                best_loss = loss\n",
    "                self.weight = self.gradient_descent(X, labels, self.weight)       \n",
    "                loss = self.hinge_loss_function( X, labels, self.weight)\n",
    "                epoch += 1\n",
    "                \n",
    "            else:\n",
    "                if loss > best_loss - 0.001 :\n",
    "                    if epoch < min_epoch:\n",
    "                        epoch += 1 \n",
    "                        loss = self.hinge_loss_function( X_prac, labels, self.weight)\n",
    "                        best_loss = loss\n",
    "                        self.weight = self.gradient_descent( X, labels, self.weight)\n",
    "                        loss = self.hinge_loss_function( X, labels, self.weight)\n",
    "                        count += 1\n",
    "                    else:\n",
    "                        if count > 5:\n",
    "                            break\n",
    "                    \n",
    "                elif loss <= best_loss - 0.001 :\n",
    "                    epoch += 1\n",
    "                    loss = self.hinge_loss_function( X_prac, labels, self.weight)\n",
    "                    best_loss = loss\n",
    "                    self.weight = self.gradient_descent( X, labels, self.weight)\n",
    "                    loss = self.hinge_loss_function( X, labels, self.weight)\n",
    "    \n",
    "        return loss\n",
    "\n",
    "    \n",
    "    def score(self, X, labels):\n",
    "        y_hat = self.predict(self.weight, X)\n",
    "        training_accuracy = np.sum(y_hat == labels) / len(labels)\n",
    "        \n",
    "        return training_accuracy\n",
    "        "
   ]
  },
  {
   "cell_type": "code",
   "execution_count": 241,
   "id": "cathedral-reducing",
   "metadata": {},
   "outputs": [],
   "source": [
    "# w = np.array([[0] for i in range(len(x_train[0]))])\n",
    "\n",
    "X_prac = x_train\n",
    "labels = y_train\n",
    "# l = [i[0] for i in np.dot(x, w)]"
   ]
  },
  {
   "cell_type": "code",
   "execution_count": 242,
   "id": "touched-socket",
   "metadata": {},
   "outputs": [
    {
     "name": "stdout",
     "output_type": "stream",
     "text": [
      "initial weight: [[-2.21778144]\n",
      " [-0.63283712]\n",
      " [-1.31049509]\n",
      " ...\n",
      " [ 0.57774988]\n",
      " [ 0.07483949]\n",
      " [-1.32356753]]\n",
      "epoch: initial\tloss: [11423.66331405]\n",
      "epoch: 1\tloss: [11010.49180514]\n",
      "epoch: 50\tloss: [3042.00376124]\n",
      "epoch: 100\tloss: [882.49594898]\n",
      "epoch: 150\tloss: [78.49724563]\n",
      "epoch: 200\tloss: [28.27511276]\n"
     ]
    }
   ],
   "source": [
    "model = SVM_Classifier()\n",
    "model.fit(X_prac, labels)"
   ]
  },
  {
   "cell_type": "code",
   "execution_count": 234,
   "id": "historic-bahrain",
   "metadata": {},
   "outputs": [
    {
     "data": {
      "text/plain": [
       "array([[-1.],\n",
       "       [-1.],\n",
       "       [-1.],\n",
       "       ...,\n",
       "       [ 1.],\n",
       "       [ 1.],\n",
       "       [ 1.]])"
      ]
     },
     "execution_count": 234,
     "metadata": {},
     "output_type": "execute_result"
    }
   ],
   "source": [
    "model.predict(model.weight, X_prac)"
   ]
  },
  {
   "cell_type": "code",
   "execution_count": 235,
   "id": "fantastic-seven",
   "metadata": {},
   "outputs": [
    {
     "data": {
      "text/plain": [
       "array([[ 1.6672467 ],\n",
       "       [ 1.66933111],\n",
       "       [-0.82894331],\n",
       "       ...,\n",
       "       [-1.61481584],\n",
       "       [-0.37226731],\n",
       "       [ 0.22460575]])"
      ]
     },
     "execution_count": 235,
     "metadata": {},
     "output_type": "execute_result"
    }
   ],
   "source": [
    "omega = model.weight\n",
    "omega"
   ]
  },
  {
   "cell_type": "code",
   "execution_count": 236,
   "id": "polished-medication",
   "metadata": {},
   "outputs": [
    {
     "data": {
      "image/png": "[encoded data removed]",
      "text/plain": [
       "<Figure size 1440x216 with 1 Axes>"
      ]
     },
     "metadata": {
      "needs_background": "light"
     },
     "output_type": "display_data"
    }
   ],
   "source": [
    "import matplotlib.pyplot as plt\n",
    "\n",
    "plt.figure(figsize=(20, 3))\n",
    "plt.plot(omega[1:])\n",
    "plt.xlabel(\"Value\")\n",
    "plt.xlabel(\"Weights\")\n",
    "plt.show()"
   ]
  },
  {
   "cell_type": "code",
   "execution_count": 279,
   "id": "guilty-disposition",
   "metadata": {},
   "outputs": [],
   "source": [
    "assert (len(omega)-1) == len(vocab)\n",
    "idx = np.argsort(np.abs(omega[1:]))"
   ]
  },
  {
   "cell_type": "code",
   "execution_count": 280,
   "id": "documentary-rocket",
   "metadata": {},
   "outputs": [
    {
     "name": "stdout",
     "output_type": "stream",
     "text": [
      "                Word   Weight  Occurences\n",
      "     representations   0.779\t1 \n",
      "           soporific   0.287\t1 \n",
      "          summations   -0.297\t1 \n",
      "             standup   -2.444\t5 \n",
      "                tips   0.467\t17 \n",
      "        suspiciously   1.291\t8 \n",
      "                   s   0.774\t2000 \n",
      "             numbing   -0.621\t22 \n",
      "           injection   2.191\t7 \n",
      "              raptor   0.246\t7 \n",
      "    constructedharry   -0.309\t0 \n",
      "        severalscene   0.821\t0 \n",
      "                bots   -0.458\t22 \n",
      "            cauldron   -0.451\t7 \n",
      "        readaptation   -0.203\t0 \n",
      "                 coy   0.904\t21 \n",
      "                 jet   -0.238\t52 \n",
      "            villiany   2.313\t1 \n",
      "              susans   -1.050\t0 \n",
      "          deployment   -0.218\t1 \n"
     ]
    }
   ],
   "source": [
    "omega = omega.reshape(-1)\n",
    "voca = list(vocab)\n",
    "idx = np.argsort(np.abs(omega))\n",
    "print(\"                Word   Weight  Occurences\")\n",
    "for i in idx[-20:]:   # Pick those with highest 'voting' values\n",
    "    print(\"%20s   %.3f\\t%i \" % (voca[i], omega[i+1], np.sum([voca[i] in d for d in X_raw])))"
   ]
  },
  {
   "cell_type": "code",
   "execution_count": 115,
   "id": "confident-boost",
   "metadata": {},
   "outputs": [
    {
     "name": "stdout",
     "output_type": "stream",
     "text": [
      "-- Epoch 1\n",
      "Norm: 31.28, NNZs: 23908, Bias: -0.100000, T: 1600, Avg. loss: 1.757959\n",
      "Total training time: 0.08 seconds.\n",
      "-- Epoch 2\n",
      "Norm: 32.78, NNZs: 27541, Bias: -0.300000, T: 3200, Avg. loss: 0.519560\n",
      "Total training time: 0.16 seconds.\n",
      "-- Epoch 3\n",
      "Norm: 31.45, NNZs: 28851, Bias: -0.200000, T: 4800, Avg. loss: 0.158868\n",
      "Total training time: 0.22 seconds.\n",
      "-- Epoch 4\n",
      "Norm: 29.37, NNZs: 29595, Bias: -0.300000, T: 6400, Avg. loss: 0.096802\n",
      "Total training time: 0.29 seconds.\n",
      "-- Epoch 5\n",
      "Norm: 27.21, NNZs: 30042, Bias: -0.300000, T: 8000, Avg. loss: 0.071565\n",
      "Total training time: 0.36 seconds.\n",
      "-- Epoch 6\n",
      "Norm: 26.41, NNZs: 30708, Bias: -0.200000, T: 9600, Avg. loss: 0.105765\n",
      "Total training time: 0.42 seconds.\n",
      "-- Epoch 7\n",
      "Norm: 26.24, NNZs: 31256, Bias: -0.400000, T: 11200, Avg. loss: 0.098563\n",
      "Total training time: 0.49 seconds.\n",
      "-- Epoch 8\n",
      "Norm: 26.12, NNZs: 31642, Bias: -0.400000, T: 12800, Avg. loss: 0.108393\n",
      "Total training time: 0.56 seconds.\n",
      "-- Epoch 9\n",
      "Norm: 26.00, NNZs: 32097, Bias: -0.300000, T: 14400, Avg. loss: 0.087161\n",
      "Total training time: 0.63 seconds.\n",
      "-- Epoch 10\n",
      "Norm: 25.28, NNZs: 32412, Bias: -0.300000, T: 16000, Avg. loss: 0.089560\n",
      "Total training time: 0.70 seconds.\n",
      "Convergence after 10 epochs took 0.70 seconds\n"
     ]
    },
    {
     "data": {
      "text/plain": [
       "SGDClassifier(alpha=0.001, eta0=0.1, learning_rate='constant', verbose=1)"
      ]
     },
     "execution_count": 115,
     "metadata": {},
     "output_type": "execute_result"
    }
   ],
   "source": [
    "from sklearn.linear_model import SGDClassifier\n",
    "\n",
    "# Set hyperparameters (these variables are only here for clarity)\n",
    "reguliser_dampening = 0.001   # lambda\n",
    "learning_rate = .1            # gamma\n",
    "\n",
    "# Create the untrained classifier\n",
    "model = SGDClassifier(loss='hinge', penalty='l2',\n",
    "                      alpha=reguliser_dampening, verbose=1,\n",
    "                      learning_rate='constant', eta0=learning_rate)\n",
    "\n",
    "# Train the classifier\n",
    "model.fit(X_prac, labels)"
   ]
  },
  {
   "cell_type": "code",
   "execution_count": 274,
   "id": "vanilla-store",
   "metadata": {},
   "outputs": [
    {
     "data": {
      "text/plain": [
       "46786"
      ]
     },
     "execution_count": 274,
     "metadata": {},
     "output_type": "execute_result"
    }
   ],
   "source": [
    "weight = model.weight\n",
    "len(vocab)"
   ]
  },
  {
   "cell_type": "code",
   "execution_count": 275,
   "id": "floating-relaxation",
   "metadata": {},
   "outputs": [
    {
     "data": {
      "text/plain": [
       "46787"
      ]
     },
     "execution_count": 275,
     "metadata": {},
     "output_type": "execute_result"
    }
   ],
   "source": [
    "len(weight)"
   ]
  },
  {
   "cell_type": "code",
   "execution_count": 116,
   "id": "fourth-resource",
   "metadata": {},
   "outputs": [],
   "source": [
    "# Get the parameter vector\n",
    "omega_sckit = np.concatenate([model.intercept_, model.coef_.ravel()])"
   ]
  },
  {
   "cell_type": "code",
   "execution_count": 119,
   "id": "known-saudi",
   "metadata": {},
   "outputs": [
    {
     "data": {
      "image/png": "[encoded data removed]",
      "text/plain": [
       "<Figure size 1440x216 with 1 Axes>"
      ]
     },
     "metadata": {
      "needs_background": "light"
     },
     "output_type": "display_data"
    }
   ],
   "source": [
    "plt.figure(figsize=(20, 3))\n",
    "plt.plot(omega_sckit[1:])\n",
    "plt.xlabel(\"Value\")\n",
    "plt.xlabel(\"Weights\")\n",
    "plt.show()"
   ]
  },
  {
   "cell_type": "markdown",
   "id": "superior-shelter",
   "metadata": {},
   "source": [
    "## Part 4: Exploring hyperparameters"
   ]
  },
  {
   "cell_type": "code",
   "execution_count": 283,
   "id": "serial-barrel",
   "metadata": {},
   "outputs": [],
   "source": [
    "learning_rate = np.exp(np.linspace(np.log(0.0001), np.log(3), 10))\n",
    "reguliser_dampening = np.exp(np.linspace(np.log(0.0001), np.log(3), 10))"
   ]
  },
  {
   "cell_type": "code",
   "execution_count": 284,
   "id": "great-singer",
   "metadata": {},
   "outputs": [
    {
     "data": {
      "text/plain": [
       "array([1.00000000e-04, 3.14382177e-04, 9.88361533e-04, 3.10723251e-03,\n",
       "       9.76858520e-03, 3.07106908e-02, 9.65489385e-02, 3.03532655e-01,\n",
       "       9.54252568e-01, 3.00000000e+00])"
      ]
     },
     "execution_count": 284,
     "metadata": {},
     "output_type": "execute_result"
    }
   ],
   "source": [
    "for lr in learning rate:\n",
    "    for "
   ]
  },
  {
   "cell_type": "code",
   "execution_count": null,
   "id": "genuine-poker",
   "metadata": {},
   "outputs": [],
   "source": []
  }
 ],
 "metadata": {
  "kernelspec": {
   "display_name": "Python 3",
   "language": "python",
   "name": "python3"
  },
  "language_info": {
   "codemirror_mode": {
    "name": "ipython",
    "version": 3
   },
   "file_extension": ".py",
   "mimetype": "text/x-python",
   "name": "python",
   "nbconvert_exporter": "python",
   "pygments_lexer": "ipython3",
   "version": "3.7.10"
  }
 },
 "nbformat": 4,
 "nbformat_minor": 5
}
