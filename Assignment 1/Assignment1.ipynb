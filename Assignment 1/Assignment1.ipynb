{
 "cells": [
  {
   "cell_type": "markdown",
   "id": "preceding-secret",
   "metadata": {},
   "source": [
    "For my assignment it can be explained in 3 big chunks. The first is from the beginning to the end of splitting the data. This can correspond to Part 1 and Part 2 of Assignment 1. Then the classifier class and all it's contents can represent Part 3, but the precision method in it can be found in Part 4 of the assignment. Then all code below the classifier class is for Part 4 of the assignment. I've commented my code along the way for you, the grader's clarity, and for myself when I was completing the assignment.\n",
    "\n",
    "Note: the first part takes very long to run for me. I'm not sure if it's just because my laptop is weak, but if you experience it also, I found that it takes me ~10 minutes to run.\n",
    "# First section implementation\n",
    "- Unpacked the data with tarfile.open and extractall method\n",
    "- Created two lists for negative and positive reviews each\n",
    "- Used regex library to remove certain characters like punctuation and special characters. This was done beacause I just wanted words and numbers to use later and nothing unrelated to that\n",
    "- Made neg_labels and pos_labels to make -1 and 1 labels for each negative and positive movie review, respectively\n",
    "- Combine the negative and positive labels into a single list for future use\n",
    "- Combine labels and turn it into an np array\n",
    "- Combine all reviews into one list\n",
    "- Turn reviews in np array\n",
    "- Concatenate all the reviews to get all your words in all the reviews (un-unique words)\n",
    "- Get unique vocabulary from all words of all reviews with set()\n",
    "- Make zeros np array\n",
    "- Traverse through all reviews and all words to see if the words are in the reviews and replace the zero array with 1 if so\n",
    "- Insert pseudo input as the first element in the np array of the total labels\n",
    "- Split data (words and labels) into 80% and 20% for test and training"
   ]
  },
  {
   "cell_type": "code",
   "execution_count": 1,
   "id": "completed-cover",
   "metadata": {},
   "outputs": [],
   "source": [
    "import tarfile #to download and unzip movie data\n",
    "import glob #to read negative and positive files\n",
    "import re #for cleaning words\n",
    "import numpy as np #for part 2 and onwards\n",
    "\n",
    "############################GET DATA\n",
    "with tarfile.open(\"review_polarity.tar.gz\", \"r:gz\") as f:\n",
    "    f.extractall()\n",
    "    \n",
    "# separate into negative and positive reviews\n",
    "neg_reviews = []\n",
    "pos_reviews = []\n",
    "\n",
    "#for regex cleaning unnecessary characters\n",
    "characters_to_remove = '`~!@#\\$%\\^&*\\(\\)_\\|\\+\\-=\\?;:,\\.<>/\\\\[\\]\\\\n\\'\\\"'\n",
    "pattern = \"[\" + characters_to_remove + \"]\"\n",
    "\n",
    "for neg_files in glob.glob(\"txt_sentoken/neg/*\"): #for each file in the negative reviews folder\n",
    "    with open(neg_files) as file: #open file\n",
    "        f = file.read() #f will be 1 entire review at a time\n",
    "        filtered_f = re.sub(pattern, '', f) #to get rid of the above patter/characters_to_remove\n",
    "        filtered_f = re.sub(\"\\s\\s+\", \" \", filtered_f) #to get rid of multiple spaces and replace them with a single space\n",
    "        filtered_f = filtered_f.rstrip() #to get rid of trailing spaces if there are any\n",
    "        neg_reviews.append(filtered_f) #append the cleaned reviewed as 1 element of the negative reviews list\n",
    "    \n",
    "for pos_files in glob.glob(\"txt_sentoken/pos/*\"): #for each file in the positive reviews folder\n",
    "    with open(neg_files) as file: #open file\n",
    "        f = file.read() #f will be 1 entire review at a time\n",
    "        filtered_f = re.sub(pattern, '', f) #to get rid of the above patter/characters_to_remove\n",
    "        filtered_f = re.sub(\"\\s\\s+\", \" \", filtered_f) #to get rid of multiple spaces and replace them with a single space\n",
    "        filtered_f = filtered_f.rstrip() #to get rid of trailing spaces if there are any\n",
    "        pos_reviews.append(filtered_f) #append the cleaned reviewed as 1 element of the positive reviews list\n",
    "        \n",
    "neg_labels = [-1 for _ in range(len(neg_reviews))] #populate neg and pos labels w/ -1 | 1 for the length of the respective reviews\n",
    "pos_labels = [1 for _ in range(len(pos_reviews))]\n",
    "\n",
    "y = np.array(neg_labels + pos_labels) #all labels: -1 or 1 for each review in the negative and positive reviews\n",
    "\n",
    "all_reviews = neg_reviews + pos_reviews #add the neg and pos reviews into a single list\n",
    "all_review_words = np.array([review.split() for review in all_reviews], dtype = object) #list of lists. inner lists are words of each review\n",
    "flatten_all_words = np.concatenate(all_review_words) #flatten it so you can get all the words into a single np array/list\n",
    "vocab = set(flatten_all_words) #make vocabulary of the unique words\n",
    "\n",
    "review_vectors = np.zeros((len(all_review_words), len(vocab)), dtype = int) #create vector of size (2000, 32739) (# of reviews, # of unique vocab)\n",
    "\n",
    "#populate vector matrix\n",
    "for row, review in enumerate(all_review_words): #traverse thru every review\n",
    "    for column, word in enumerate(vocab): #traverse thru every word in the unique vocab\n",
    "        if word in review: #if the current word is in the current review\n",
    "            review_vectors[row, column] = 1 #then update the vector at the position of review (row), vocab-word (column)\n",
    "        #don't need an else because the index = 0 by default\n",
    "\n",
    "# have to do pseudo input\n",
    "X = np.insert(review_vectors, 0, 1, axis = 1)\n",
    "\n",
    "\n",
    "############################SPLIT DATA\n",
    "#split data into 80/20 training/testing\n",
    "\n",
    "rand_const = np.random.rand(X.shape[0])\n",
    "split = rand_const < np.percentile(rand_const, 80) #set the upper limit to 80%\n",
    "\n",
    "X_train = X[split] #up to 80% of X\n",
    "y_train = y[split] #up to 80% of y\n",
    "X_test =  X[~split] #remainder of X (20%)\n",
    "y_test = y[~split] #remainder of y (20%)"
   ]
  },
  {
   "cell_type": "markdown",
   "id": "other-crash",
   "metadata": {},
   "source": [
    "Lookup tables to test our vocabulary. I changed coffee to semiconductor just to see a word coming back as False, because coffee was already in my vocab/reviews."
   ]
  },
  {
   "cell_type": "code",
   "execution_count": 33,
   "id": "gross-builder",
   "metadata": {},
   "outputs": [
    {
     "name": "stdout",
     "output_type": "stream",
     "text": [
      "'dolphin' is represented as feature dimension 495409\n",
      "'the' is represented as feature dimension 1112826\n",
      "'semiconductor' is not in the vocabulary\n"
     ]
    }
   ],
   "source": [
    "lut = dict()\n",
    "for i, word in enumerate(flatten_all_words):\n",
    "  lut[word] = i\n",
    "\n",
    "for word in ['dolphin', 'the', 'semiconductor']:\n",
    "  if word in vocab:\n",
    "    print(\"'%s' is represented as feature dimension %i\" %(word, lut[word]))\n",
    "  else:\n",
    "    print(\"'%s' is not in the vocabulary\" % word)"
   ]
  },
  {
   "cell_type": "code",
   "execution_count": 35,
   "id": "sublime-bookmark",
   "metadata": {},
   "outputs": [
    {
     "name": "stdout",
     "output_type": "stream",
     "text": [
      "['from' 'the' 'norm' 'in' 'one' 'respect' 'the' 'psycho' 'never'\n",
      " 'actually']\n",
      "[[0 0 0 0 0 0 0 0 0 0]\n",
      " [0 0 0 0 0 0 0 0 0 0]\n",
      " [0 0 0 0 0 0 0 0 0 0]\n",
      " [0 0 0 0 0 0 0 0 0 0]\n",
      " [0 0 0 0 0 0 0 0 0 0]\n",
      " [0 0 0 0 0 1 0 0 0 0]\n",
      " [0 0 0 0 0 0 0 0 0 0]\n",
      " [0 0 0 0 0 0 0 0 0 0]\n",
      " [0 0 0 0 0 0 0 0 0 0]\n",
      " [0 0 0 0 0 0 0 0 0 0]]\n",
      "'dolphin' in words: True\n",
      "'the' in words: True\n",
      "'semiconductor' in words: False\n"
     ]
    }
   ],
   "source": [
    "print(flatten_all_words[2000:2010])\n",
    "print(X[:10, 2000:2010])\n",
    "for w in ['dolphin', 'the', 'semiconductor']:\n",
    "  print(\"'%s' in words: %s\" % (w, w in vocab))"
   ]
  },
  {
   "cell_type": "markdown",
   "id": "turkish-sodium",
   "metadata": {},
   "source": [
    "# Second section implementation\n",
    "- Classifier class will have learning rate, lambda constant and weight as pre-defined attributes to be used unless changed by another method later on\n",
    "- For fit method:\n",
    "- Define our counter to break out of the loop after 5 consecutive comparisons as defined in the assignment\n",
    "- For loop to go over the number of interations/epochs\n",
    "- Have if statement to account for the first iteration\n",
    "- Else statement to account for 2 conditions of if 1) the comparison between losses isn't greater than the best loss - 0.001 or if it is greater than that\n",
    "- Each one of those scenarios requires you to update the loss and weight by passing them into the score and gradient descent methods, respectively, updating the loss and incrementing the number of iterations\n",
    "- Return the loss at the end\n",
    "- Predict method returns the finalized hyperplane after calling the hyperplane method, signing it, and then passing it into an np array\n",
    "- Hyperplane method computes the dot product of the X data and the weight (which had to be transposed in this case to match the shapes\n",
    "- Score method has our y hat (expected) will call the hyperplane of X data, finds the hinge loss/l2/regularization after looping through the X data and maximizing according to the assignment. Sums that weight with the first weight after multplying with lambda\n",
    "- Gradient descent method goes through the X data and y labels, performs a product, comparison and dot product based on conditions, updates weight and returns it in the end\n",
    "- Precision method compares tests on the inputted X and y variables with the previously defined predict method"
   ]
  },
  {
   "cell_type": "code",
   "execution_count": 2,
   "id": "focused-england",
   "metadata": {},
   "outputs": [],
   "source": [
    "############################CLASS STRUCTURE\n",
    "class classifier:\n",
    "    def __init__(self, learning_rate = 0.01, const_lambda = 0.5, weight = np.random.randn(1, 32740)): #lambda value to be used for objective function, TA session said 0.001 was a good value\n",
    "        self.learning_rate = learning_rate\n",
    "        self.const_lambda = const_lambda\n",
    "        self.weight = weight #np.zeros(X.shape) #initial, later in fit it'll update to the corresponding shape\n",
    "        self.transpose_omega = np.transpose(self.weight)\n",
    "    \n",
    "    \n",
    "    def fit(self, X, y):\n",
    "        iteration = 0 #to prevent early exit of looping for fitting\n",
    "        counter = 0 #to get to 5 loss comparisons\n",
    "        compared_loss = 0 #placeholder to use for when you first start the looping to capture the initial loss\n",
    "        end_iteration = 250\n",
    "        self.weight = np.random.randn(1, 32740) #this is a duplicate piece of code, but it's to reset the weight for testing purposes\n",
    "        #get initial weight\n",
    "        #print(f\"initial weight is: {self.weight}\")\n",
    "        \n",
    "        for i in range(end_iteration):\n",
    "            #for first iteration\n",
    "            if compared_loss == 0:\n",
    "                loss = self.score(X, y, self.weight)\n",
    "                compared_loss = loss\n",
    "                self.weight = self.gradient_descent(X, y, self.weight)\n",
    "                #print(f\"weight after: {self.weight}\")\n",
    "                loss = self.score(X, y, self.weight)\n",
    "                iteration += 1\n",
    "                \n",
    "                \n",
    "            else: \n",
    "                #for any non-initial iteration\n",
    "                if loss > compared_loss - 0.001:\n",
    "                    if iteration < end_iteration:\n",
    "                        loss = self.score(X, y, self.weight)\n",
    "                        compared_loss = loss\n",
    "                        self.weight = self.gradient_descent(X, y, self.weight)\n",
    "                        loss = self.score(X, y, self.weight)\n",
    "                        #update iteration\n",
    "                        iteration += 1\n",
    "                        #update counter\n",
    "                        counter += 1\n",
    "                    else:\n",
    "                        if counter > 5: #break out after 5 counts of the loop\n",
    "                            break         \n",
    "                elif loss <= compared_loss - 0.001:\n",
    "                    loss = self.score(X, y, self.weight)\n",
    "                    compared_loss = loss\n",
    "                    self.weight = self.gradient_descent(X, y, self.weight)\n",
    "                    loss = self.score(X, y, self.weight)\n",
    "                    iteration += 1\n",
    "#             if iteration % 50 == 0: #this is to view the printed out losses\n",
    "#                 print(f\"iteration: {iteration}, weight: {self.weight}, loss: {loss}\")\n",
    "        \n",
    "        return loss\n",
    " \n",
    "    \n",
    "    def predict(self, X): #this can be like Part 3.1 Hyperplane model\n",
    "        temp = self.hyperplane(X)\n",
    "        signed_hyperplane = np.sign(temp) #put hp thru the sign function\n",
    "        final_hyperplane = np.array([index for index in signed_hyperplane]) #make it into an array for each index of signed_hp\n",
    "        \n",
    "        return final_hyperplane\n",
    "    \n",
    "    \n",
    "    def hyperplane(self, X): #needed to pass into score method for y hat\n",
    "        hyperplane = np.array([index for index in np.dot(X, self.weight.T)]) #populate it with the first element of the index of the dot product b/w omega & x\n",
    "        \n",
    "        return hyperplane\n",
    "    \n",
    "    \n",
    "    def score(self, X, y, weight): #implement l2 regularization\n",
    "        #self.transpose_omega = weight\n",
    "        expected_y = self.hyperplane(X)\n",
    "        loss = 0 #initialize start_loss\n",
    "        \n",
    "        for index in range(len(X)):\n",
    "            loss += max(0, 1 - y[index] * expected_y[index])\n",
    "        l2_reg = np.sum(weight ** 2)\n",
    "        \n",
    "        return (loss + ((self.const_lambda / 2)* l2_reg))\n",
    "    \n",
    "    \n",
    "    def gradient_descent(self, X, y, weight):\n",
    "        gradient = 0\n",
    "        weight = weight.reshape(-1)\n",
    "        for x_i, y_i in zip(X, y):\n",
    "            w_data = np.dot(x_i , weight)\n",
    "            if y_i * w_data >= 1:\n",
    "                gradient += 0\n",
    "            else:\n",
    "                gradient += -y_i * x_i\n",
    "        grad_array = np.array(gradient).reshape(-1, 1).T\n",
    "        gradient_function = (self.const_lambda * weight) + grad_array\n",
    "        weight = weight - self.learning_rate * gradient_function\n",
    "        \n",
    "        return weight\n",
    "    \n",
    "    \n",
    "    #methods not provided by assignment\n",
    "    def precision(self, X, y):\n",
    "        y = y.reshape(-1, 1)\n",
    "        return (np.sum(self.predict(X) == y) / len(y))"
   ]
  },
  {
   "cell_type": "markdown",
   "id": "entitled-peoples",
   "metadata": {},
   "source": [
    "# Small segment that's to show the weight plots that were asked in the assignment. To find the, effectively, most important words. Analysis below output:"
   ]
  },
  {
   "cell_type": "code",
   "execution_count": 3,
   "id": "cloudy-construction",
   "metadata": {},
   "outputs": [],
   "source": [
    "a = classifier()"
   ]
  },
  {
   "cell_type": "code",
   "execution_count": 9,
   "id": "dietary-serial",
   "metadata": {},
   "outputs": [],
   "source": [
    "omega = a.weight.reshape(-1)"
   ]
  },
  {
   "cell_type": "code",
   "execution_count": 10,
   "id": "czech-factory",
   "metadata": {},
   "outputs": [
    {
     "data": {
      "image/png": "[encoded data removed]",
      "text/plain": [
       "<Figure size 1440x216 with 1 Axes>"
      ]
     },
     "metadata": {
      "needs_background": "light"
     },
     "output_type": "display_data"
    }
   ],
   "source": [
    "import matplotlib.pyplot as plt\n",
    "\n",
    "plt.figure(figsize=(20, 3))\n",
    "plt.plot(omega[1:])\n",
    "plt.xlabel(\"Value\")\n",
    "plt.xlabel(\"Weights\")\n",
    "plt.show()"
   ]
  },
  {
   "cell_type": "code",
   "execution_count": 17,
   "id": "endless-virtue",
   "metadata": {},
   "outputs": [],
   "source": [
    "assert (len(omega)-1) == len(vocab)\n",
    "omega = omega.reshape(-1)\n",
    "idx = np.argsort(np.abs(omega[1:]))"
   ]
  },
  {
   "cell_type": "code",
   "execution_count": 18,
   "id": "common-theater",
   "metadata": {},
   "outputs": [
    {
     "name": "stdout",
     "output_type": "stream",
     "text": [
      "                Word   Weight  Occurences\n",
      "                alba   3.378\t1 \n",
      "            contrary   3.398\t11 \n",
      "       fullyrealized   3.405\t1 \n",
      "           essential   -3.433\t35 \n",
      "               blast   3.440\t19 \n",
      "              dolenz   -3.447\t1 \n",
      "             kidlets   -3.491\t1 \n",
      "         atmospheric   3.496\t6 \n",
      "             cabaret   3.537\t3 \n",
      "           dialogues   3.589\t1 \n",
      "            journeys   3.650\t2 \n",
      "               trace   -3.669\t1021 \n",
      "         notverygood   3.682\t1 \n",
      "           barbarino   3.695\t1 \n",
      "           griswolds   -3.705\t2 \n",
      "             parsley   -3.735\t1 \n",
      "           rationale   3.828\t3 \n",
      "              maudit   3.905\t1 \n",
      "        incalculable   4.075\t1 \n",
      "           slightest   4.093\t1022 \n"
     ]
    }
   ],
   "source": [
    "voca = list(vocab)\n",
    "print(\"                Word   Weight  Occurences\")\n",
    "for i in idx[-20:]:   # Pick those with highest 'voting' values\n",
    "    print(\"%20s   %.3f\\t%i \" % (voca[i], omega[i+1], np.sum([voca[i] in d for d in all_reviews])))"
   ]
  },
  {
   "cell_type": "markdown",
   "id": "stretch-title",
   "metadata": {},
   "source": [
    "Analysis: “Fullyrealized” and “notverygood” are weighted highly in terms of positive reviews. The dash between these words were cut in preprocessing. Notverygood is perhaps the weirdest occurrence of the model over learning on a specific instance of a word. However, there are some words that occur more than once that have possible positive connotations, like “blast”, ”dialogues”, “rationale”, and “atmospheric” when it comes to describing movies positively. When it comes to words that weigh highly for determining a negative review, trace occurs 1021 times and has a high weight, but it isn’t a word that is obviously negative. Something similar could be said about slightest, which occurs 1022 times and has the highest weight of all, but again does not have a necessarily negative or positive connotation in everyday speech.\n",
    "\n"
   ]
  },
  {
   "cell_type": "markdown",
   "id": "placed-zoning",
   "metadata": {},
   "source": [
    "# Third section implementation\n",
    "- Set the parameters into a dictionary with grid implementation with numpy linspace method\n",
    "- Make a placeholder best hyperparameters variable to use for the final output\n",
    "- New variables for the list of learning rates and regulizer dampening constants\n",
    "- Nested for loop to traverse through the learning rates and regulizer dampening numbers\n",
    "- Create the class instance of our classifier named model\n",
    "- Fit the model with the training data\n",
    "- Get the precision\n",
    "- Compare the training accuracy of the model.precision method to the previous training accuracy variable. If the former is greater than the latter then update the best hyperparameters with the parameters we're currently traversing with\n",
    "- Store hyperparameters in new variable\n",
    "- Print the current learning rate, regulizer, and training accuracy (percentage)\n",
    "\n",
    "- Once for loop is done, make new variables of best learning rate and best regulizer dampening and update them from hyperparameters variable\n",
    "- Print the best learning rate and regulizer dampening parameters"
   ]
  },
  {
   "cell_type": "code",
   "execution_count": 24,
   "id": "characteristic-locking",
   "metadata": {},
   "outputs": [
    {
     "name": "stdout",
     "output_type": "stream",
     "text": [
      "Learning rate:\tReg.dampening:\tTraining set accuracy:\n",
      "0.00010\t\t0.00010\t\t99.9%\n",
      "0.00010\t\t0.00031\t\t99.9%\n",
      "0.00010\t\t0.00099\t\t99.8%\n",
      "0.00010\t\t0.00311\t\t99.6%\n",
      "0.00010\t\t0.00977\t\t99.6%\n",
      "0.00010\t\t0.03071\t\t99.7%\n",
      "0.00010\t\t0.09655\t\t99.7%\n",
      "0.00010\t\t0.30353\t\t99.5%\n",
      "0.00010\t\t0.95425\t\t99.6%\n",
      "0.00010\t\t3.00000\t\t99.8%\n",
      "0.00031\t\t0.00010\t\t99.9%\n",
      "0.00031\t\t0.00031\t\t99.9%\n",
      "0.00031\t\t0.00099\t\t99.9%\n",
      "0.00031\t\t0.00311\t\t99.9%\n",
      "0.00031\t\t0.00977\t\t99.9%\n",
      "0.00031\t\t0.03071\t\t99.9%\n",
      "0.00031\t\t0.09655\t\t99.9%\n",
      "0.00031\t\t0.30353\t\t99.9%\n",
      "0.00031\t\t0.95425\t\t99.9%\n",
      "0.00031\t\t3.00000\t\t99.9%\n",
      "0.00099\t\t0.00010\t\t99.9%\n",
      "0.00099\t\t0.00031\t\t99.9%\n",
      "0.00099\t\t0.00099\t\t99.9%\n",
      "0.00099\t\t0.00311\t\t99.9%\n",
      "0.00099\t\t0.00977\t\t99.9%\n",
      "0.00099\t\t0.03071\t\t99.9%\n",
      "0.00099\t\t0.09655\t\t99.9%\n",
      "0.00099\t\t0.30353\t\t99.9%\n",
      "0.00099\t\t0.95425\t\t99.9%\n",
      "0.00099\t\t3.00000\t\t99.9%\n",
      "0.00311\t\t0.00010\t\t99.9%\n",
      "0.00311\t\t0.00031\t\t99.9%\n",
      "0.00311\t\t0.00099\t\t99.9%\n",
      "0.00311\t\t0.00311\t\t99.9%\n",
      "0.00311\t\t0.00977\t\t99.9%\n",
      "0.00311\t\t0.03071\t\t99.9%\n",
      "0.00311\t\t0.09655\t\t99.9%\n",
      "0.00311\t\t0.30353\t\t99.9%\n",
      "0.00311\t\t0.95425\t\t99.9%\n",
      "0.00311\t\t3.00000\t\t99.9%\n",
      "0.00977\t\t0.00010\t\t99.9%\n",
      "0.00977\t\t0.00031\t\t99.9%\n",
      "0.00977\t\t0.00099\t\t99.9%\n",
      "0.00977\t\t0.00311\t\t99.9%\n",
      "0.00977\t\t0.00977\t\t99.9%\n",
      "0.00977\t\t0.03071\t\t99.9%\n",
      "0.00977\t\t0.09655\t\t99.9%\n",
      "0.00977\t\t0.30353\t\t99.9%\n",
      "0.00977\t\t0.95425\t\t99.9%\n",
      "0.00977\t\t3.00000\t\t99.9%\n",
      "0.03071\t\t0.00010\t\t99.9%\n",
      "0.03071\t\t0.00031\t\t99.9%\n",
      "0.03071\t\t0.00099\t\t99.9%\n",
      "0.03071\t\t0.00311\t\t99.9%\n",
      "0.03071\t\t0.00977\t\t99.9%\n",
      "0.03071\t\t0.03071\t\t99.9%\n",
      "0.03071\t\t0.09655\t\t99.9%\n",
      "0.03071\t\t0.30353\t\t99.9%\n",
      "0.03071\t\t0.95425\t\t99.9%\n",
      "0.03071\t\t3.00000\t\t99.9%\n",
      "0.09655\t\t0.00010\t\t99.9%\n",
      "0.09655\t\t0.00031\t\t99.9%\n",
      "0.09655\t\t0.00099\t\t99.9%\n",
      "0.09655\t\t0.00311\t\t99.9%\n",
      "0.09655\t\t0.00977\t\t99.9%\n",
      "0.09655\t\t0.03071\t\t99.9%\n",
      "0.09655\t\t0.09655\t\t99.9%\n",
      "0.09655\t\t0.30353\t\t99.9%\n",
      "0.09655\t\t0.95425\t\t99.9%\n",
      "0.09655\t\t3.00000\t\t99.9%\n",
      "0.30353\t\t0.00010\t\t99.9%\n",
      "0.30353\t\t0.00031\t\t99.9%\n",
      "0.30353\t\t0.00099\t\t99.9%\n",
      "0.30353\t\t0.00311\t\t99.9%\n",
      "0.30353\t\t0.00977\t\t99.9%\n",
      "0.30353\t\t0.03071\t\t99.9%\n",
      "0.30353\t\t0.09655\t\t99.9%\n",
      "0.30353\t\t0.30353\t\t99.9%\n",
      "0.30353\t\t0.95425\t\t99.9%\n",
      "0.30353\t\t3.00000\t\t49.4%\n",
      "0.95425\t\t0.00010\t\t99.9%\n",
      "0.95425\t\t0.00031\t\t99.9%\n",
      "0.95425\t\t0.00099\t\t99.9%\n",
      "0.95425\t\t0.00311\t\t99.9%\n",
      "0.95425\t\t0.00977\t\t99.9%\n",
      "0.95425\t\t0.03071\t\t99.9%\n",
      "0.95425\t\t0.09655\t\t99.9%\n",
      "0.95425\t\t0.30353\t\t99.9%\n",
      "0.95425\t\t0.95425\t\t50.6%\n",
      "0.95425\t\t3.00000\t\t50.6%\n",
      "3.00000\t\t0.00010\t\t99.9%\n",
      "3.00000\t\t0.00031\t\t99.9%\n",
      "3.00000\t\t0.00099\t\t99.9%\n",
      "3.00000\t\t0.00311\t\t99.9%\n",
      "3.00000\t\t0.00977\t\t99.9%\n",
      "3.00000\t\t0.03071\t\t99.9%\n",
      "3.00000\t\t0.09655\t\t99.9%\n",
      "3.00000\t\t0.30353\t\t49.4%\n",
      "3.00000\t\t0.95425\t\t50.6%\n"
     ]
    },
    {
     "name": "stderr",
     "output_type": "stream",
     "text": [
      "c:\\users\\user\\miniconda3\\envs\\nlp\\lib\\site-packages\\numpy\\core\\fromnumeric.py:87: RuntimeWarning: overflow encountered in reduce\n",
      "  return ufunc.reduce(obj, axis, dtype, out, **passkwargs)\n",
      "c:\\users\\user\\miniconda3\\envs\\nlp\\lib\\site-packages\\ipykernel_launcher.py:78: RuntimeWarning: overflow encountered in square\n"
     ]
    },
    {
     "name": "stdout",
     "output_type": "stream",
     "text": [
      "3.00000\t\t3.00000\t\t50.6%\n",
      "Best parameters: 0.00031, 0.00010\n"
     ]
    }
   ],
   "source": [
    "#in part 4 professor said we can generate the grid with the following code:\n",
    "parameter_distribution = {'learning_rate': np.exp(np.linspace(np.log(0.0001), np.log(3), 10)),\n",
    "                          'regulizer_dampening': np.exp(np.linspace(np.log(0.0001), np.log(3), 10))}\n",
    "\n",
    "best_hyperparameters = None\n",
    "print(\"Learning rate:\\tReg.dampening:\\tTraining set accuracy:\")\n",
    "\n",
    "\n",
    "learning_rate = parameter_distribution['learning_rate']\n",
    "regulizer_dampening = parameter_distribution['regulizer_dampening']\n",
    "\n",
    "for learning_index in learning_rate:\n",
    "    for damp_index in regulizer_dampening:\n",
    "        model = classifier(learning_index, damp_index)\n",
    "        model.fit(X_train, y_train)\n",
    "        training_accuracy = model.precision(X_train, y_train)\n",
    "        hyperparameters = {'learning_rate': learning_index, 'regulizer_dampening': damp_index}\n",
    "        \n",
    "        if best_hyperparameters is None or best_hyperparameters[1] < training_accuracy:\n",
    "            best_hyperparameters = (hyperparameters, training_accuracy)\n",
    "        print(\"%.5f\\t\\t%.5f\\t\\t%.1f%%\" % (hyperparameters['learning_rate'], hyperparameters['regulizer_dampening'], 100*training_accuracy))\n",
    "\n",
    "best_learning_rate = best_hyperparameters[0]['learning_rate']\n",
    "best_regulizer_dampening = best_hyperparameters[0]['regulizer_dampening']\n",
    "print(\"Best parameters: %.5f, %.5f\" % (best_learning_rate, best_regulizer_dampening))"
   ]
  },
  {
   "cell_type": "markdown",
   "id": "joint-quality",
   "metadata": {},
   "source": [
    "# Now running the final model:\n",
    "- Create the model class instance\n",
    "- Now we can fit the model with our X test data and our y (labels) test data\n",
    "- Call our precision method, again with our X and y test data and send it into a testing accuracy variable\n",
    "- Print out the test accuracy (in percentage form)"
   ]
  },
  {
   "cell_type": "code",
   "execution_count": 36,
   "id": "secondary-graduate",
   "metadata": {},
   "outputs": [
    {
     "name": "stdout",
     "output_type": "stream",
     "text": [
      "Test set accuracy 99.2%\n"
     ]
    }
   ],
   "source": [
    "model = classifier(best_learning_rate, best_regulizer_dampening)\n",
    "model.fit(X_train, y_train)\n",
    "test_accuracy  = model.precision(X_test, y_test)\n",
    "print(\"Test set accuracy %.1f%%\" % (100*test_accuracy))"
   ]
  },
  {
   "cell_type": "markdown",
   "id": "pursuant-profession",
   "metadata": {},
   "source": [
    "I think I got 99% accuracy because when I originally tested my fit method with 1000 iterations/epochs I would get down to a TINY loss (~0.04). In terms of what a good result is, if I had to give a concrete and direct number I'd say above 80% is good. However, even though I got 99% I don't think my model is perfect (far, far from it), because this isn't optimized code and my first attempt in doing this kind of experiment. Regarding my default learning rate and lambda, the reuslts of my fit indicate that a lot of loss can be quickly removed by shrinking weights, but getting better accuracy is slower. And because lambda says how much you want to punish weights that have a large magnitude (how much large weights add to the loss), I think its default set value is okay for this model/experiment."
   ]
  },
  {
   "cell_type": "markdown",
   "id": "strange-account",
   "metadata": {},
   "source": [
    "# Comments on what you thought was hard in the assignment, what you think was educational, what took most time and which parts might be unnecessarily tricky.\n",
    "\n",
    "- The hardest thing was really understanding how the shapes of everything worked in tandem with each other. There were a lot of times when I'd spend hours and hours just debugging without realizing the root of my problems was that the shape of the variable being passed it, or the variable I have to include in a dot product wasn't the right shape. The hardest methods for me to make were the fit and gradient descent. The fit was hard because I had trouble figuring out what the flow was for calling other methos for updating loss and weight. I also had to rethink how to write the other methods multiple times, because even if I was determined to do it the way I originally thought of, I had to abandon a lot of ideas to make it actually work in the first place. Overall, this was really educational because I would've never done this without sklearn, but now I think I know how to implement a very inefficient and non-optimal version of sklearn.\n",
    "\n",
    "- ALSO, fitting the model took a long time when I had the number of iterations/epochs set to 250-1000. So when I had to find the best hyperparameters, which looped through 100 combinations of learning rate and lambda/dampening constant, I just had to leave my laptop on overnight to complete the calculations."
   ]
  },
  {
   "cell_type": "code",
   "execution_count": null,
   "id": "ultimate-cycling",
   "metadata": {},
   "outputs": [],
   "source": []
  }
 ],
 "metadata": {
  "kernelspec": {
   "display_name": "Python 3",
   "language": "python",
   "name": "python3"
  },
  "language_info": {
   "codemirror_mode": {
    "name": "ipython",
    "version": 3
   },
   "file_extension": ".py",
   "mimetype": "text/x-python",
   "name": "python",
   "nbconvert_exporter": "python",
   "pygments_lexer": "ipython3",
   "version": "3.7.10"
  }
 },
 "nbformat": 4,
 "nbformat_minor": 5
}
